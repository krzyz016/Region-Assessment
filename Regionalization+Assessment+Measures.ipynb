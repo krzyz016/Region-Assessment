{
 "cells": [
  {
   "cell_type": "markdown",
   "metadata": {},
   "source": [
    "This is a python 2 notebook. Feel free to make a new notebook in Py3!"
   ]
  },
  {
   "cell_type": "code",
   "execution_count": null,
   "metadata": {
    "collapsed": true
   },
   "outputs": [],
   "source": []
  },
  {
   "cell_type": "markdown",
   "metadata": {},
   "source": [
    "Average Isoperimetric Quotient\n"
   ]
  },
  {
   "cell_type": "markdown",
   "metadata": {},
   "source": [
    "Write a code to output a single value for the shapefile.  This value will be the Average Isoperimetric quotient.  You will need to calculate four things before you can calculate the ISO Q.  You need to calculate 1st) the areas of the regions, 2nd) the perimeters of the regions, 3rd) the radii of a circle from those perimeters, 4th) the areas of circles from those radii.\n",
    "\n",
    "Once you have these calculated for each of the regions, you can calculate ISO Q by dividing the area of a region by the area of a circle with the same perimeter as the region (divide the 1st thing you calculated by the 4th thing you calculated).  Then finally, you need to find the average ISO Q for all the regions.\n",
    "\n",
    "\n",
    "Make sure you change the projection to albers equal area conic before calculating. \n",
    "\n",
    "Steps (you can think of this process like a spreadsheet in Excel where each step is a collumn with a new calculation and that the final step will be to average the last collumn:\n",
    "\n",
    "1st) You can calculate the geometry (shape area) of all the regions.\n",
    "2nd) Then calculate the perimeter of the regions\n",
    "3rd) Then calculate the radius of a circle with the perimeters from previous calculation.  Remember that radius = perimeter / (pi x 2).\n",
    "4th) Then calculate the area of the circle using the radii you just found. Remember area = pi x r sqared).\n",
    "\n",
    "Then divide 1st row of data/ 4th collumn\n",
    "Finally average value for the collumn above is the Average ISO Q."
   ]
  },
  {
   "cell_type": "code",
   "execution_count": null,
   "metadata": {
    "collapsed": true
   },
   "outputs": [],
   "source": []
  },
  {
   "cell_type": "markdown",
   "metadata": {},
   "source": [
    "Resolution Average Shape Area"
   ]
  },
  {
   "cell_type": "markdown",
   "metadata": {},
   "source": [
    "Write a code to output a single value for the shapefile.  The value will be the average area of the regions within it. Make sure your projection is in albers equal area conic.  Calculate geometry (shape area).  Then find the average area of the regions within the entire shapefile.\n"
   ]
  },
  {
   "cell_type": "code",
   "execution_count": null,
   "metadata": {
    "collapsed": true
   },
   "outputs": [],
   "source": []
  },
  {
   "cell_type": "markdown",
   "metadata": {},
   "source": [
    " Resolution Variance of the Areas"
   ]
  },
  {
   "cell_type": "markdown",
   "metadata": {},
   "source": [
    "Write a code to output a single value for the shapefile.  The value will be the variance of the areas of the regions within. Make sure project in Albers equal area conic. Calculate the variance of the areas of the regions."
   ]
  },
  {
   "cell_type": "code",
   "execution_count": null,
   "metadata": {
    "collapsed": true
   },
   "outputs": [],
   "source": []
  },
  {
   "cell_type": "markdown",
   "metadata": {},
   "source": [
    "Suppression "
   ]
  },
  {
   "cell_type": "markdown",
   "metadata": {},
   "source": [
    "Write a code to output a single value for the shapefile. The value will be the number of regions with population values less than 20,001. "
   ]
  },
  {
   "cell_type": "code",
   "execution_count": null,
   "metadata": {
    "collapsed": true
   },
   "outputs": [],
   "source": []
  },
  {
   "cell_type": "markdown",
   "metadata": {},
   "source": [
    "Geographic information loss \n"
   ]
  },
  {
   "cell_type": "markdown",
   "metadata": {},
   "source": [
    "Write a code to output a single value for the shapefile.  The value will be a probability caculated using a set of log equations.  I will have to explain this to you.\n"
   ]
  },
  {
   "cell_type": "code",
   "execution_count": null,
   "metadata": {
    "collapsed": true
   },
   "outputs": [],
   "source": []
  },
  {
   "cell_type": "markdown",
   "metadata": {},
   "source": [
    "Homogeneity"
   ]
  },
  {
   "cell_type": "markdown",
   "metadata": {},
   "source": [
    "Write a code to output a single value for the shapefile.  The value will be a homogeneity index for the entire shapefile.  We are using Pinzari et al’s improved homogeneity index...  Unfortunatley this is in R so we might have to write it within a separate notebook. This will have to wait until I can get the R script to work...\n"
   ]
  },
  {
   "cell_type": "code",
   "execution_count": null,
   "metadata": {
    "collapsed": true
   },
   "outputs": [],
   "source": []
  },
  {
   "cell_type": "markdown",
   "metadata": {},
   "source": [
    "Akaike information Criterion (AIC) "
   ]
  },
  {
   "cell_type": "markdown",
   "metadata": {},
   "source": [
    "Write a code to output a single value for the shapefile.  The value will be the AIC for a Poisson regression of Depression risk as the Y and Education and Income as the predictors.  This might be a little challenging.  I have the code in STATA, but it would be good to convert that to python."
   ]
  }
 ],
 "metadata": {
  "kernelspec": {
   "display_name": "Python 2",
   "language": "python",
   "name": "python2"
  },
  "language_info": {
   "codemirror_mode": {
    "name": "ipython",
    "version": 2
   },
   "file_extension": ".py",
   "mimetype": "text/x-python",
   "name": "python",
   "nbconvert_exporter": "python",
   "pygments_lexer": "ipython2",
   "version": "2.7.13"
  }
 },
 "nbformat": 4,
 "nbformat_minor": 2
}
